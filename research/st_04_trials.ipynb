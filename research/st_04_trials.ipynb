{
 "cells": [
  {
   "cell_type": "code",
   "execution_count": 2,
   "metadata": {},
   "outputs": [],
   "source": [
    "from collections import namedtuple\n",
    "import os\n",
    "os.chdir(\"../\")"
   ]
  },
  {
   "cell_type": "code",
   "execution_count": 4,
   "metadata": {},
   "outputs": [],
   "source": [
    "from dataclasses import dataclass\n",
    "from pathlib import Path\n",
    "@dataclass(frozen=True) \n",
    "class PrepareCallbackConfig:      #this will also work as a named tuple but is a better way to implement the same concept\n",
    "    root_dir: Path\n",
    "    tensorboard_log_dir: Path\n",
    "    checkpoint_model_filepath: Path\n",
    "    \n",
    "@dataclass(frozen=True) \n",
    "class TrainingConfig:      #this will also work as a named tuple but is a better way to implement the same concept\n",
    "    root_dir: Path\n",
    "    trained_model_path: Path\n",
    "    updated_base_model_path: Path\n",
    "    training_data: Path\n",
    "    params_epochs: int\n",
    "    params_batch_size: int\n",
    "    params_is_augmentation: bool\n",
    "    params_image_size: list"
   ]
  },
  {
   "cell_type": "code",
   "execution_count": 5,
   "metadata": {},
   "outputs": [],
   "source": [
    "from deepClassifier.constants import *\n",
    "from deepClassifier.utils import read_yaml, create_directories"
   ]
  },
  {
   "cell_type": "code",
   "execution_count": 6,
   "metadata": {},
   "outputs": [],
   "source": [
    "class ConfigurationManager:\n",
    "    def __init__(\n",
    "        self,\n",
    "        config_filepath = CONFIG_FILE_PATH,\n",
    "        params_filepath = PARAMS_FILE_PATH):\n",
    "        self.config = read_yaml(config_filepath)\n",
    "        self.params = read_yaml(params_filepath)\n",
    "        create_directories([self.config.artifacts_root])\n",
    "\n",
    "    def get_prepare_callback_config(self) -> PrepareCallbackConfig:\n",
    "        config = self.config.prepare_callback\n",
    "        model_ckpt_dir= os.path.dirname(config.checkpoint_model_filepath)   #since it has a filename in the end of filepath\n",
    "        create_directories([Path(model_ckpt_dir),Path(config.tensorboard_log_dir)])\n",
    "\n",
    "        prepare_callback_config = PrepareCallbackConfig(\n",
    "            root_dir = Path(config.root_dir),\n",
    "            tensorboard_log_dir = Path(config.tensorboard_log_dir),\n",
    "            checkpoint_model_filepath = Path(config.checkpoint_model_filepath))\n",
    "\n",
    "        return prepare_callback_config\n",
    "    \n",
    "    def get_training_config(self) -> TrainingConfig:\n",
    "        config_training = self.config.training\n",
    "        model_config = self.config.prepare_base_model\n",
    "        training_data = os.path.join(self.config.data_ingestion.unzip_dir,\"PetImages\")\n",
    "        params = self.params\n",
    "\n",
    "        create_directories([Path(config_training.root_dir)])\n",
    "\n",
    "        training_config = TrainingConfig(\n",
    "            root_dir = Path(config_training.root_dir),\n",
    "            trained_model_path= Path(config_training.trained_model_path),\n",
    "            updated_base_model_path= Path(model_config.updated_base_model_path),\n",
    "            training_data= training_data,\n",
    "            params_epochs = params.EPOCHS,\n",
    "            params_batch_size = params.BATCH_SIZE,\n",
    "            params_is_augmentation= params.AUGMENTATION,\n",
    "            params_image_size= params.IMAGE_SIZE)\n",
    "        return training_config"
   ]
  },
  {
   "cell_type": "code",
   "execution_count": 7,
   "metadata": {},
   "outputs": [
    {
     "name": "stderr",
     "output_type": "stream",
     "text": [
      "2023-04-08 19:37:15.218502: I tensorflow/core/platform/cpu_feature_guard.cc:193] This TensorFlow binary is optimized with oneAPI Deep Neural Network Library (oneDNN) to use the following CPU instructions in performance-critical operations:  AVX2 FMA\n",
      "To enable them in other operations, rebuild TensorFlow with the appropriate compiler flags.\n"
     ]
    }
   ],
   "source": [
    "import time\n",
    "import tensorflow as tf\n",
    "class PrepareCallback:\n",
    "    def __init__(self, config: PrepareCallbackConfig):\n",
    "        self.config = config\n",
    "\n",
    "    @property\n",
    "    def _create_tb_callbacks(self):   #tensorboard callbacks\n",
    "        timestamp = time.strftime(\"%Y-%m-%d-%H-%M-%S\")  #good practice to create folders with timestamp names as they are unique\n",
    "        tb_running_log_dir = os.path.join(self.config.tensorboard_log_dir,(f\"tb_logs_at_{timestamp}\"))\n",
    "        return tf.keras.callbacks.TensorBoard(log_dir=tb_running_log_dir)\n",
    "\n",
    "    @property\n",
    "    def _create_ckpt_callbacks(self):   #checkpoint callbacks    \n",
    "        return tf.keras.callbacks.ModelCheckpoint(filepath=self.config.checkpoint_model_filepath)\n",
    "\n",
    "\n",
    "    def get_tb_ckpt_callbacks(self):\n",
    "        return[\n",
    "            self._create_tb_callbacks,   #we dont need to call a property as method i.e. with ()\n",
    "            self._create_ckpt_callbacks\n",
    "        ]"
   ]
  },
  {
   "cell_type": "code",
   "execution_count": 8,
   "metadata": {},
   "outputs": [],
   "source": [
    "import os\n",
    "\n",
    "class Training:\n",
    "    def __init__(self, config: TrainingConfig):\n",
    "        self.config = config\n",
    "    \n",
    "    def get_base_model(self):\n",
    "        self.model = tf.keras.models.load_model(\n",
    "            self.config.updated_base_model_path\n",
    "        )\n",
    "    \n",
    "    def train_valid_generator(self):\n",
    "        datagenerator_kwargs = dict(\n",
    "            rescale = 1./255,\n",
    "            validation_split = 0.20\n",
    "        )\n",
    "\n",
    "        dataflow_kwargs = dict(\n",
    "            target_size = self.config.params_image_size[:-1],\n",
    "            batch_size = self.config.params_batch_size,\n",
    "            interpolation = \"bilinear\"\n",
    "        )\n",
    "\n",
    "        valid_datagenerator = tf.keras.preprocessing.image.ImageDataGenerator(\n",
    "            **datagenerator_kwargs\n",
    "        )\n",
    "\n",
    "        self.valid_generator = valid_datagenerator.flow_from_directory(\n",
    "            directory=self.config.training_data,\n",
    "            subset=\"validation\",\n",
    "            shuffle= False,\n",
    "            **dataflow_kwargs\n",
    "        )\n",
    "\n",
    "        if self.config.params_is_augmentation:\n",
    "            training_datagenerator = tf.keras.preprocessing.image.ImageDataGenerator(\n",
    "                rotation_range = 40,\n",
    "                horizontal_flip=True,\n",
    "                width_shift_range=0.2, #20%\n",
    "                height_shift_range=0.2, #20%\n",
    "                shear_range=0.2,\n",
    "                zoom_range=0.2,\n",
    "                **datagenerator_kwargs\n",
    "            )\n",
    "        else:\n",
    "            training_datagenerator = valid_datagenerator\n",
    "        \n",
    "        self.train_generator = training_datagenerator.flow_from_directory(\n",
    "            directory=self.config.training_data,\n",
    "            subset=\"training\",\n",
    "            shuffle=True,\n",
    "            **dataflow_kwargs\n",
    "        )\n",
    "    @staticmethod\n",
    "    def save_model(path:Path,model:tf.keras.models):\n",
    "        model.save(path)\n",
    "\n",
    "    def train(self,callbacks_list:list):\n",
    "        self.step_per_epoch = self.train_generator.samples/self.train_generator.batch_size\n",
    "        self.validation_steps = self.valid_generator.samples/self.valid_generator.batch_size\n",
    "        self.model.fit(\n",
    "            self.train_generator,\n",
    "            epochs = self.config.params_epochs,\n",
    "            steps_per_epoch = self.step_per_epoch,\n",
    "            validation_steps = self.validation_steps,\n",
    "            validation_data = self.valid_generator,\n",
    "            callbacks = callbacks_list\n",
    "        )\n",
    "        self.save_model(\n",
    "            self.config.trained_model_path,\n",
    "            self.model\n",
    "        )"
   ]
  },
  {
   "cell_type": "code",
   "execution_count": 9,
   "metadata": {},
   "outputs": [
    {
     "name": "stderr",
     "output_type": "stream",
     "text": [
      "2023-04-08 19:38:24.303781: I tensorflow/core/platform/cpu_feature_guard.cc:193] This TensorFlow binary is optimized with oneAPI Deep Neural Network Library (oneDNN) to use the following CPU instructions in performance-critical operations:  AVX2 FMA\n",
      "To enable them in other operations, rebuild TensorFlow with the appropriate compiler flags.\n"
     ]
    },
    {
     "name": "stdout",
     "output_type": "stream",
     "text": [
      "Found 4998 images belonging to 2 classes.\n",
      "Found 19999 images belonging to 2 classes.\n",
      "1244/1249 [============================>.] - ETA: 1:51 - loss: 0.6924 - accuracy: 0.5331"
     ]
    },
    {
     "name": "stderr",
     "output_type": "stream",
     "text": [
      "/Users/akshayjain/Desktop/Deep Learning Codes/Deep Learning Project/env/lib/python3.8/site-packages/PIL/TiffImagePlugin.py:858: UserWarning: Truncated File Read\n",
      "  warnings.warn(str(msg))\n"
     ]
    },
    {
     "name": "stdout",
     "output_type": "stream",
     "text": [
      "1249/1249 [==============================] - 59617s 48s/step - loss: 0.6924 - accuracy: 0.5332 - val_loss: 0.6924 - val_accuracy: 0.4978\n"
     ]
    },
    {
     "ename": "TypeError",
     "evalue": "save_model() missing 1 required positional argument: 'model'",
     "output_type": "error",
     "traceback": [
      "\u001b[0;31m---------------------------------------------------------------------------\u001b[0m",
      "\u001b[0;31mTypeError\u001b[0m                                 Traceback (most recent call last)",
      "Cell \u001b[0;32mIn[9], line 13\u001b[0m\n\u001b[1;32m     11\u001b[0m     training\u001b[39m.\u001b[39mtrain(callbacks_list\u001b[39m=\u001b[39mcallback_list)\n\u001b[1;32m     12\u001b[0m \u001b[39mexcept\u001b[39;00m \u001b[39mException\u001b[39;00m \u001b[39mas\u001b[39;00m e:\n\u001b[0;32m---> 13\u001b[0m     \u001b[39mraise\u001b[39;00m e\n",
      "Cell \u001b[0;32mIn[9], line 11\u001b[0m\n\u001b[1;32m      9\u001b[0m     training\u001b[39m.\u001b[39mget_base_model()\n\u001b[1;32m     10\u001b[0m     training\u001b[39m.\u001b[39mtrain_valid_generator()\n\u001b[0;32m---> 11\u001b[0m     training\u001b[39m.\u001b[39;49mtrain(callbacks_list\u001b[39m=\u001b[39;49mcallback_list)\n\u001b[1;32m     12\u001b[0m \u001b[39mexcept\u001b[39;00m \u001b[39mException\u001b[39;00m \u001b[39mas\u001b[39;00m e:\n\u001b[1;32m     13\u001b[0m     \u001b[39mraise\u001b[39;00m e\n",
      "Cell \u001b[0;32mIn[8], line 69\u001b[0m, in \u001b[0;36mTraining.train\u001b[0;34m(self, callbacks_list)\u001b[0m\n\u001b[1;32m     60\u001b[0m \u001b[39mself\u001b[39m\u001b[39m.\u001b[39mvalidation_steps \u001b[39m=\u001b[39m \u001b[39mself\u001b[39m\u001b[39m.\u001b[39mvalid_generator\u001b[39m.\u001b[39msamples\u001b[39m/\u001b[39m\u001b[39mself\u001b[39m\u001b[39m.\u001b[39mvalid_generator\u001b[39m.\u001b[39mbatch_size\n\u001b[1;32m     61\u001b[0m \u001b[39mself\u001b[39m\u001b[39m.\u001b[39mmodel\u001b[39m.\u001b[39mfit(\n\u001b[1;32m     62\u001b[0m     \u001b[39mself\u001b[39m\u001b[39m.\u001b[39mtrain_generator,\n\u001b[1;32m     63\u001b[0m     epochs \u001b[39m=\u001b[39m \u001b[39mself\u001b[39m\u001b[39m.\u001b[39mconfig\u001b[39m.\u001b[39mparams_epochs,\n\u001b[0;32m   (...)\u001b[0m\n\u001b[1;32m     67\u001b[0m     callbacks \u001b[39m=\u001b[39m callbacks_list\n\u001b[1;32m     68\u001b[0m )\n\u001b[0;32m---> 69\u001b[0m \u001b[39mself\u001b[39;49m\u001b[39m.\u001b[39;49msave_model(\n\u001b[1;32m     70\u001b[0m     \u001b[39mself\u001b[39;49m\u001b[39m.\u001b[39;49mconfig\u001b[39m.\u001b[39;49mtrained_model_path\n\u001b[1;32m     71\u001b[0m )\n",
      "\u001b[0;31mTypeError\u001b[0m: save_model() missing 1 required positional argument: 'model'"
     ]
    }
   ],
   "source": [
    "try:\n",
    "    config = ConfigurationManager()\n",
    "    prepare_callback_config = config.get_prepare_callback_config()\n",
    "    prepare_callback = PrepareCallback(config = prepare_callback_config)\n",
    "    callback_list = prepare_callback.get_tb_ckpt_callbacks()\n",
    "    \n",
    "    training_config = config.get_training_config()\n",
    "    training = Training(config=training_config)\n",
    "    training.get_base_model()\n",
    "    training.train_valid_generator()\n",
    "    training.train(callbacks_list=callback_list)\n",
    "except Exception as e:\n",
    "    raise e"
   ]
  },
  {
   "cell_type": "code",
   "execution_count": null,
   "metadata": {},
   "outputs": [
    {
     "name": "stdout",
     "output_type": "stream",
     "text": [
      "LICENCE               \u001b[34mlogs\u001b[m\u001b[m/                 setup.py\n",
      "README.md             params.yaml           \u001b[34msrc\u001b[m\u001b[m/\n",
      "\u001b[34martifacts\u001b[m\u001b[m/            pyproject.toml        template.py\n",
      "\u001b[34mconfigs\u001b[m\u001b[m/              requirements.txt      \u001b[34mtests\u001b[m\u001b[m/\n",
      "dvc.yaml              requirements_dev.txt  tox.ini\n",
      "\u001b[34menv\u001b[m\u001b[m/                  \u001b[34mresearch\u001b[m\u001b[m/\n",
      "init_setup.sh         setup.cfg\n"
     ]
    }
   ],
   "source": [
    "ls"
   ]
  },
  {
   "cell_type": "code",
   "execution_count": null,
   "metadata": {},
   "outputs": [],
   "source": [
    "print('hello')"
   ]
  },
  {
   "cell_type": "code",
   "execution_count": 10,
   "metadata": {},
   "outputs": [],
   "source": [
    "training.model.save('artifacts/training/model.h5')"
   ]
  },
  {
   "cell_type": "code",
   "execution_count": null,
   "metadata": {},
   "outputs": [],
   "source": []
  }
 ],
 "metadata": {
  "kernelspec": {
   "display_name": "Python 3",
   "language": "python",
   "name": "python3"
  },
  "language_info": {
   "codemirror_mode": {
    "name": "ipython",
    "version": 3
   },
   "file_extension": ".py",
   "mimetype": "text/x-python",
   "name": "python",
   "nbconvert_exporter": "python",
   "pygments_lexer": "ipython3",
   "version": "3.8.16"
  },
  "orig_nbformat": 4,
  "vscode": {
   "interpreter": {
    "hash": "76019f8d73157ddeed47c2d685a685919e14873676095ddc0e251de86da218eb"
   }
  }
 },
 "nbformat": 4,
 "nbformat_minor": 2
}
